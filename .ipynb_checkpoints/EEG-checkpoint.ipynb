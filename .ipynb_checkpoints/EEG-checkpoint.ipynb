{
 "cells": [
  {
   "cell_type": "markdown",
   "id": "acb656aa-0432-45a9-833a-e0dddab013e3",
   "metadata": {},
   "source": [
    "### Classification of EEG signal: Emotion Classification"
   ]
  },
  {
   "cell_type": "markdown",
   "id": "4be76129-5750-430c-a59b-80d541458637",
   "metadata": {},
   "source": [
    "#### Student ID: 2144625    |     Student Name: Sanjay Jyakhwa"
   ]
  },
  {
   "cell_type": "markdown",
   "id": "3be0afd5-d2da-4e7c-aea7-cadc08acd29e",
   "metadata": {},
   "source": [
    " ##### This project uses a EEG signal dataset, readily available  to perform a \"Feature Extraction\" for the information on brain-generated emotion potentials. In the classification of this EEG signal, Long Short Term Memory (LSTM) has been used, as it is believed to outperform the multi-layer NN perception.\n",
    " ##### The use of EEG is an important step to make use of the brain generated signals more practical and having less reliant of professinals.\n",
    " "
   ]
  },
  {
   "cell_type": "code",
   "execution_count": 1,
   "id": "a44512e6-2f09-425c-a83b-da694115b240",
   "metadata": {},
   "outputs": [],
   "source": [
    "import numpy as np\n",
    "import pandas as pd\n",
    "\n",
    "import matplotlib.pyplot as plt\n",
    "\n",
    "from sklearn import metrics\n",
    "from sklearn.model_selection import train_test_split\n",
    "from sklearn.metrics import confusion_matrix, classification_report, accuracy_score\n",
    "from sklearn.preprocessing import StandardScaler\n",
    "\n",
    "import seaborn as sns\n",
    "\n",
    "import tensorflow as tf\n",
    "from tensorflow.keras.utils import to_categorical\n",
    "from tensorflow.keras.models import Sequential, Model, load_model\n",
    "tf.keras.backend.clear_session()\n",
    "\n",
    "import scipy\n",
    "from scipy.fft import fft, ifft"
   ]
  },
  {
   "cell_type": "markdown",
   "id": "c34d8616-2bd9-4da0-8beb-55f9deaacf6b",
   "metadata": {},
   "source": [
    "### Loading and Analyzing Data"
   ]
  },
  {
   "cell_type": "code",
   "execution_count": 2,
   "id": "487838f2-2fe9-4349-ac56-aa1c64a7ea53",
   "metadata": {},
   "outputs": [
    {
     "name": "stdout",
     "output_type": "stream",
     "text": [
      "<class 'pandas.core.frame.DataFrame'>\n",
      "RangeIndex: 2132 entries, 0 to 2131\n",
      "Columns: 2549 entries, # mean_0_a to label\n",
      "dtypes: float64(2548), object(1)\n",
      "memory usage: 41.5+ MB\n"
     ]
    }
   ],
   "source": [
    "# Load Data\n",
    "\n",
    "data = pd.read_csv('emotions.csv')\n",
    "\n",
    "# Data info\n",
    "info = data.info()\n",
    "info"
   ]
  },
  {
   "cell_type": "code",
   "execution_count": 3,
   "id": "28a0d524-3782-4af5-aa16-52a44bff3445",
   "metadata": {},
   "outputs": [
    {
     "data": {
      "text/html": [
       "<div>\n",
       "<style scoped>\n",
       "    .dataframe tbody tr th:only-of-type {\n",
       "        vertical-align: middle;\n",
       "    }\n",
       "\n",
       "    .dataframe tbody tr th {\n",
       "        vertical-align: top;\n",
       "    }\n",
       "\n",
       "    .dataframe thead th {\n",
       "        text-align: right;\n",
       "    }\n",
       "</style>\n",
       "<table border=\"1\" class=\"dataframe\">\n",
       "  <thead>\n",
       "    <tr style=\"text-align: right;\">\n",
       "      <th></th>\n",
       "      <th># mean_0_a</th>\n",
       "      <th>mean_1_a</th>\n",
       "      <th>mean_2_a</th>\n",
       "      <th>mean_3_a</th>\n",
       "      <th>mean_4_a</th>\n",
       "      <th>mean_d_0_a</th>\n",
       "      <th>mean_d_1_a</th>\n",
       "      <th>mean_d_2_a</th>\n",
       "      <th>mean_d_3_a</th>\n",
       "      <th>mean_d_4_a</th>\n",
       "      <th>...</th>\n",
       "      <th>fft_741_b</th>\n",
       "      <th>fft_742_b</th>\n",
       "      <th>fft_743_b</th>\n",
       "      <th>fft_744_b</th>\n",
       "      <th>fft_745_b</th>\n",
       "      <th>fft_746_b</th>\n",
       "      <th>fft_747_b</th>\n",
       "      <th>fft_748_b</th>\n",
       "      <th>fft_749_b</th>\n",
       "      <th>label</th>\n",
       "    </tr>\n",
       "  </thead>\n",
       "  <tbody>\n",
       "    <tr>\n",
       "      <th>0</th>\n",
       "      <td>4.62</td>\n",
       "      <td>30.3</td>\n",
       "      <td>-356.0</td>\n",
       "      <td>15.6</td>\n",
       "      <td>26.3</td>\n",
       "      <td>1.070</td>\n",
       "      <td>0.411</td>\n",
       "      <td>-15.70</td>\n",
       "      <td>2.06</td>\n",
       "      <td>3.15</td>\n",
       "      <td>...</td>\n",
       "      <td>23.5</td>\n",
       "      <td>20.3</td>\n",
       "      <td>20.3</td>\n",
       "      <td>23.5</td>\n",
       "      <td>-215.0</td>\n",
       "      <td>280.00</td>\n",
       "      <td>-162.00</td>\n",
       "      <td>-162.00</td>\n",
       "      <td>280.00</td>\n",
       "      <td>NEGATIVE</td>\n",
       "    </tr>\n",
       "    <tr>\n",
       "      <th>1</th>\n",
       "      <td>28.80</td>\n",
       "      <td>33.1</td>\n",
       "      <td>32.0</td>\n",
       "      <td>25.8</td>\n",
       "      <td>22.8</td>\n",
       "      <td>6.550</td>\n",
       "      <td>1.680</td>\n",
       "      <td>2.88</td>\n",
       "      <td>3.83</td>\n",
       "      <td>-4.82</td>\n",
       "      <td>...</td>\n",
       "      <td>-23.3</td>\n",
       "      <td>-21.8</td>\n",
       "      <td>-21.8</td>\n",
       "      <td>-23.3</td>\n",
       "      <td>182.0</td>\n",
       "      <td>2.57</td>\n",
       "      <td>-31.60</td>\n",
       "      <td>-31.60</td>\n",
       "      <td>2.57</td>\n",
       "      <td>NEUTRAL</td>\n",
       "    </tr>\n",
       "    <tr>\n",
       "      <th>2</th>\n",
       "      <td>8.90</td>\n",
       "      <td>29.4</td>\n",
       "      <td>-416.0</td>\n",
       "      <td>16.7</td>\n",
       "      <td>23.7</td>\n",
       "      <td>79.900</td>\n",
       "      <td>3.360</td>\n",
       "      <td>90.20</td>\n",
       "      <td>89.90</td>\n",
       "      <td>2.03</td>\n",
       "      <td>...</td>\n",
       "      <td>462.0</td>\n",
       "      <td>-233.0</td>\n",
       "      <td>-233.0</td>\n",
       "      <td>462.0</td>\n",
       "      <td>-267.0</td>\n",
       "      <td>281.00</td>\n",
       "      <td>-148.00</td>\n",
       "      <td>-148.00</td>\n",
       "      <td>281.00</td>\n",
       "      <td>POSITIVE</td>\n",
       "    </tr>\n",
       "    <tr>\n",
       "      <th>3</th>\n",
       "      <td>14.90</td>\n",
       "      <td>31.6</td>\n",
       "      <td>-143.0</td>\n",
       "      <td>19.8</td>\n",
       "      <td>24.3</td>\n",
       "      <td>-0.584</td>\n",
       "      <td>-0.284</td>\n",
       "      <td>8.82</td>\n",
       "      <td>2.30</td>\n",
       "      <td>-1.97</td>\n",
       "      <td>...</td>\n",
       "      <td>299.0</td>\n",
       "      <td>-243.0</td>\n",
       "      <td>-243.0</td>\n",
       "      <td>299.0</td>\n",
       "      <td>132.0</td>\n",
       "      <td>-12.40</td>\n",
       "      <td>9.53</td>\n",
       "      <td>9.53</td>\n",
       "      <td>-12.40</td>\n",
       "      <td>POSITIVE</td>\n",
       "    </tr>\n",
       "    <tr>\n",
       "      <th>4</th>\n",
       "      <td>28.30</td>\n",
       "      <td>31.3</td>\n",
       "      <td>45.2</td>\n",
       "      <td>27.3</td>\n",
       "      <td>24.5</td>\n",
       "      <td>34.800</td>\n",
       "      <td>-5.790</td>\n",
       "      <td>3.06</td>\n",
       "      <td>41.40</td>\n",
       "      <td>5.52</td>\n",
       "      <td>...</td>\n",
       "      <td>12.0</td>\n",
       "      <td>38.1</td>\n",
       "      <td>38.1</td>\n",
       "      <td>12.0</td>\n",
       "      <td>119.0</td>\n",
       "      <td>-17.60</td>\n",
       "      <td>23.90</td>\n",
       "      <td>23.90</td>\n",
       "      <td>-17.60</td>\n",
       "      <td>NEUTRAL</td>\n",
       "    </tr>\n",
       "  </tbody>\n",
       "</table>\n",
       "<p>5 rows × 2549 columns</p>\n",
       "</div>"
      ],
      "text/plain": [
       "   # mean_0_a  mean_1_a  mean_2_a  mean_3_a  mean_4_a  mean_d_0_a  mean_d_1_a  \\\n",
       "0        4.62      30.3    -356.0      15.6      26.3       1.070       0.411   \n",
       "1       28.80      33.1      32.0      25.8      22.8       6.550       1.680   \n",
       "2        8.90      29.4    -416.0      16.7      23.7      79.900       3.360   \n",
       "3       14.90      31.6    -143.0      19.8      24.3      -0.584      -0.284   \n",
       "4       28.30      31.3      45.2      27.3      24.5      34.800      -5.790   \n",
       "\n",
       "   mean_d_2_a  mean_d_3_a  mean_d_4_a  ...  fft_741_b  fft_742_b  fft_743_b  \\\n",
       "0      -15.70        2.06        3.15  ...       23.5       20.3       20.3   \n",
       "1        2.88        3.83       -4.82  ...      -23.3      -21.8      -21.8   \n",
       "2       90.20       89.90        2.03  ...      462.0     -233.0     -233.0   \n",
       "3        8.82        2.30       -1.97  ...      299.0     -243.0     -243.0   \n",
       "4        3.06       41.40        5.52  ...       12.0       38.1       38.1   \n",
       "\n",
       "   fft_744_b  fft_745_b  fft_746_b  fft_747_b  fft_748_b  fft_749_b     label  \n",
       "0       23.5     -215.0     280.00    -162.00    -162.00     280.00  NEGATIVE  \n",
       "1      -23.3      182.0       2.57     -31.60     -31.60       2.57   NEUTRAL  \n",
       "2      462.0     -267.0     281.00    -148.00    -148.00     281.00  POSITIVE  \n",
       "3      299.0      132.0     -12.40       9.53       9.53     -12.40  POSITIVE  \n",
       "4       12.0      119.0     -17.60      23.90      23.90     -17.60   NEUTRAL  \n",
       "\n",
       "[5 rows x 2549 columns]"
      ]
     },
     "execution_count": 3,
     "metadata": {},
     "output_type": "execute_result"
    }
   ],
   "source": [
    "# Check Data for 10 rows\n",
    "\n",
    "showdata = data.head()\n",
    "showdata"
   ]
  },
  {
   "cell_type": "code",
   "execution_count": 4,
   "id": "5000d737-9122-4ab4-afac-0bf55b0bd652",
   "metadata": {},
   "outputs": [
    {
     "name": "stdout",
     "output_type": "stream",
     "text": [
      "Columns =  Index(['# mean_0_a', 'mean_1_a', 'mean_2_a', 'mean_3_a', 'mean_4_a',\n",
      "       'mean_d_0_a', 'mean_d_1_a', 'mean_d_2_a', 'mean_d_3_a', 'mean_d_4_a',\n",
      "       ...\n",
      "       'fft_741_b', 'fft_742_b', 'fft_743_b', 'fft_744_b', 'fft_745_b',\n",
      "       'fft_746_b', 'fft_747_b', 'fft_748_b', 'fft_749_b', 'label'],\n",
      "      dtype='object', length=2549) \n",
      " Shape =  (2132, 2549) \n",
      " Size =  5434468\n"
     ]
    }
   ],
   "source": [
    "# Check Data column, shape and size\n",
    "\n",
    "print ('Columns = ', data.columns, '\\n', 'Shape = ', data.shape, '\\n', 'Size = ', data.size)      # column, shape and size\n"
   ]
  },
  {
   "cell_type": "code",
   "execution_count": 5,
   "id": "b50a1ddd-fda2-4779-9739-63edbb2871c8",
   "metadata": {},
   "outputs": [
    {
     "name": "stdout",
     "output_type": "stream",
     "text": [
      "('COUNT VALUES OF DATA LABEL : ', NEUTRAL     716\n",
      "NEGATIVE    708\n",
      "POSITIVE    708\n",
      "Name: label, dtype: int64)\n"
     ]
    }
   ],
   "source": [
    "# Count data values\n",
    "\n",
    "count_values = 'COUNT VALUES OF DATA LABEL : ',  data ['label'].value_counts() # count labels\n",
    "print (count_values)    # show label count and check if they are evenly balanced"
   ]
  },
  {
   "cell_type": "markdown",
   "id": "61b4c81d-e38c-411d-bb3e-994c6792cda3",
   "metadata": {},
   "source": [
    "##### Now, null values are checked. The null values should be eliminated"
   ]
  },
  {
   "cell_type": "code",
   "execution_count": 6,
   "id": "d4b318eb-9ef6-467b-99c3-2834b55a9183",
   "metadata": {},
   "outputs": [
    {
     "data": {
      "text/plain": [
       "# mean_0_a    0\n",
       "mean_1_a      0\n",
       "mean_2_a      0\n",
       "mean_3_a      0\n",
       "mean_4_a      0\n",
       "             ..\n",
       "fft_746_b     0\n",
       "fft_747_b     0\n",
       "fft_748_b     0\n",
       "fft_749_b     0\n",
       "label         0\n",
       "Length: 2549, dtype: int64"
      ]
     },
     "execution_count": 6,
     "metadata": {},
     "output_type": "execute_result"
    }
   ],
   "source": [
    "null = data.isnull ().sum ()\n",
    "null\n"
   ]
  },
  {
   "cell_type": "markdown",
   "id": "a0cb04cd-6036-4458-868d-e2c28b449355",
   "metadata": {},
   "source": [
    "##### We now know, we have 3 distict labels as Positive, Negative and Neutral with their total count\n",
    "##### Now, we take the label as 'Positive', 'Negative' and 'Neutral' for our classification\n"
   ]
  },
  {
   "cell_type": "code",
   "execution_count": 7,
   "id": "df6c8dd1-bd80-4269-96a9-19058f4e7a97",
   "metadata": {},
   "outputs": [
    {
     "data": {
      "text/plain": [
       "fft_0_b   -508.0\n",
       "fft_1_b    438.0\n",
       "fft_2_b   -222.0\n",
       "fft_3_b   -222.0\n",
       "fft_4_b    438.0\n",
       "Name: 0, dtype: object"
      ]
     },
     "execution_count": 7,
     "metadata": {},
     "output_type": "execute_result"
    }
   ],
   "source": [
    "# View a sample of time series data from the dataset\n",
    "\n",
    "ts_data = data.loc [0, 'fft_0_b' : 'fft_749_b']\n",
    "ts_data.head()"
   ]
  },
  {
   "cell_type": "code",
   "execution_count": 8,
   "id": "63125709-83cd-4b55-b0de-65fb4ddb9779",
   "metadata": {},
   "outputs": [
    {
     "data": {
      "image/png": "[encoded data removed]",
      "text/plain": [
       "<Figure size 1080x432 with 1 Axes>"
      ]
     },
     "metadata": {
      "needs_background": "light"
     },
     "output_type": "display_data"
    }
   ],
   "source": [
    "# Plotting a basic figure using the time series data for row-1, column fft_0_b to fft_749_b\n",
    "\n",
    "plt.figure (figsize = (15,6) )\n",
    "plt.style.use ('seaborn')\n",
    "plt.title ( ' Features from fft_0_b to fft_749_b for 100s \\n')\n",
    "plt.plot ( range (len (ts_data) ), ts_data )  # ranges: x = length of time series data, y = ts-data\n",
    "plt.show ()\n"
   ]
  },
  {
   "cell_type": "markdown",
   "id": "cd5c1e1e-3d30-4ed7-9fa2-8a9fa34680da",
   "metadata": {},
   "source": [
    "##### Map the labels to Integer\n"
   ]
  },
  {
   "cell_type": "code",
   "execution_count": 9,
   "id": "c588fd4a-0922-4a3a-8f70-8179525c1c59",
   "metadata": {},
   "outputs": [
    {
     "name": "stdout",
     "output_type": "stream",
     "text": [
      "{'POSITIVE': 2, 'NEGATIVE': 1, 'NEUTRAL': 0}\n"
     ]
    }
   ],
   "source": [
    "map_label = { 'POSITIVE' : 2, 'NEGATIVE' : 1, 'NEUTRAL' : 0 }\n",
    "data['label'] = data['label'].replace(map_label)\n",
    "\n",
    "print (map_label)\n",
    "#data"
   ]
  },
  {
   "cell_type": "markdown",
   "id": "02f28f96-2151-4b0d-bb7a-6b33d03695ef",
   "metadata": {},
   "source": [
    "##### Define x and y"
   ]
  },
  {
   "cell_type": "code",
   "execution_count": 10,
   "id": "63982dd8-437a-4cf3-86a5-0be94858de24",
   "metadata": {},
   "outputs": [],
   "source": [
    "# x and y values\n",
    "\n",
    "x = data.drop ('label', axis = 1) # dropping labels from x\n",
    "y = data ['label'].copy ()        # providing y as label"
   ]
  },
  {
   "cell_type": "markdown",
   "id": "1e900b5b-6c18-4a19-9490-a6ef23a093f4",
   "metadata": {},
   "source": [
    "#### Pre-Processing Data"
   ]
  },
  {
   "cell_type": "code",
   "execution_count": 11,
   "id": "607e4f5c-df86-4958-9094-90bef34127d4",
   "metadata": {},
   "outputs": [],
   "source": [
    "# Standardizing data\n",
    "\n",
    "scalar = StandardScaler()\n",
    "scalar.fit(x)\n",
    "\n",
    "x = scalar.transform (x)\n",
    "y = to_categorical (y)\n",
    "\n",
    "#print (x, y)   #see x and y"
   ]
  },
  {
   "cell_type": "markdown",
   "id": "e170a75a-2d26-4871-9a5b-0c83d36ea250",
   "metadata": {},
   "source": [
    "##### Training and Testing Data\n",
    "##### Re-Shape x_train and x_test without loosing data"
   ]
  },
  {
   "cell_type": "code",
   "execution_count": 12,
   "id": "34b3e2b0-b2d0-47e3-a684-a04b73e2d2d0",
   "metadata": {},
   "outputs": [
    {
     "name": "stdout",
     "output_type": "stream",
     "text": [
      "Shape of x_train =  (1705, 1, 2548) \n",
      " Shape of x_test =  (427, 1, 2548)\n"
     ]
    }
   ],
   "source": [
    "x_train, x_test, y_train, y_test = train_test_split (x , y, random_state = 123, train_size = 0.8) # splitting to 80/20 standard\n",
    "\n",
    "x_train = np.reshape (x_train, (x_train.shape [0], 1, x.shape [1] ) )   # reshape x_train\n",
    "x_test = np.reshape (x_test, (x_test.shape [0], 1, x.shape [1] ) )      # reshape x_test\n",
    "\n",
    "print ( 'Shape of x_train = ', x_train.shape , '\\n', 'Shape of x_test = ', x_test.shape )\n",
    "\n",
    "#print ('Size of x_train = ', x_train.size)  # 4344340\n",
    "#print ('Size of x_test = ', x_test.size)     #1087996"
   ]
  },
  {
   "cell_type": "markdown",
   "id": "86e10c53-a834-4988-96ee-656607ed2f0d",
   "metadata": {},
   "source": [
    "#### Implementing LSTM Model using Keras"
   ]
  },
  {
   "cell_type": "code",
   "execution_count": 13,
   "id": "ac1b7430-df39-4c82-989d-43751a0d8d01",
   "metadata": {},
   "outputs": [],
   "source": [
    "## LSTM (Long Short Term Memory) Model\n",
    "\n",
    "model = Sequential ()\n",
    "\n",
    "model.add (tf.keras.layers.LSTM (32, activation = 'relu', return_sequences = True, input_shape = ( 1, 2548 ) ) )\n",
    "model.add (tf.keras.layers.Dropout (0.2) )                      # Dropout: regularization method to exclude input & recurrent connection, \n",
    "                                                                #reducing overfitting and enhanace model performance, it has no weight\n",
    "\n",
    "\n",
    "#model.add (tf.keras.layers.BatchNormalization () )\n",
    "\n",
    "model.add (tf.keras.layers.LSTM ( 64, activation = 'relu' ) )\n",
    "model.add (tf.keras.layers.Dropout (0.2) )\n",
    "\n",
    "model.add (tf.keras.layers.Dense (3, activation = 'sigmoid'  ) )\n"
   ]
  },
  {
   "cell_type": "code",
   "execution_count": 14,
   "id": "6b7b0024-ce86-45d6-bfce-510d024e54af",
   "metadata": {},
   "outputs": [
    {
     "name": "stdout",
     "output_type": "stream",
     "text": [
      "Model: \"sequential\"\n",
      "_________________________________________________________________\n",
      " Layer (type)                Output Shape              Param #   \n",
      "=================================================================\n",
      " lstm (LSTM)                 (None, 1, 32)             330368    \n",
      "                                                                 \n",
      " dropout (Dropout)           (None, 1, 32)             0         \n",
      "                                                                 \n",
      " lstm_1 (LSTM)               (None, 64)                24832     \n",
      "                                                                 \n",
      " dropout_1 (Dropout)         (None, 64)                0         \n",
      "                                                                 \n",
      " dense (Dense)               (None, 3)                 195       \n",
      "                                                                 \n",
      "=================================================================\n",
      "Total params: 355,395\n",
      "Trainable params: 355,395\n",
      "Non-trainable params: 0\n",
      "_________________________________________________________________\n"
     ]
    }
   ],
   "source": [
    "# See model architecture\n",
    "\n",
    "model.summary()"
   ]
  },
  {
   "cell_type": "code",
   "execution_count": 15,
   "id": "90731804-6204-4706-87da-88a41699f067",
   "metadata": {},
   "outputs": [],
   "source": [
    "# Compile the LSTM Model Architecture\n",
    "\n",
    "model.compile (\n",
    "    optimizer = tf.keras.optimizers.Adam (learning_rate = 0.001, decay = 0.01),  #lr is the magnitude of model weights update to reduce error estimates of loss function\n",
    "    loss = tf.keras.losses.CategoricalCrossentropy(),  # Doesnt work with Sparse\n",
    "    #loss = 'categorical_crossentrophy',\n",
    "    metrics = tf.keras.metrics.CategoricalAccuracy() \n",
    ")\n",
    "#model.summary()"
   ]
  },
  {
   "cell_type": "markdown",
   "id": "4b50ceb5-5ecd-42c3-b62c-c36eb04fc403",
   "metadata": {
    "tags": []
   },
   "source": [
    "##### Fitting the Training Data"
   ]
  },
  {
   "cell_type": "code",
   "execution_count": 16,
   "id": "1e9c2e9a-46e2-40ec-9854-82db6c520915",
   "metadata": {},
   "outputs": [
    {
     "name": "stdout",
     "output_type": "stream",
     "text": [
      "Epoch 1/200\n",
      "35/35 [==============================] - 4s 25ms/step - loss: 0.6160 - categorical_accuracy: 0.7589 - val_loss: 0.3151 - val_categorical_accuracy: 0.8970 - lr: 0.0010\n",
      "Epoch 2/200\n",
      "35/35 [==============================] - 0s 7ms/step - loss: 0.2804 - categorical_accuracy: 0.9009 - val_loss: 0.2536 - val_categorical_accuracy: 0.9040 - lr: 9.0484e-04\n",
      "Epoch 3/200\n",
      "35/35 [==============================] - 0s 7ms/step - loss: 0.1844 - categorical_accuracy: 0.9208 - val_loss: 0.2321 - val_categorical_accuracy: 0.9087 - lr: 8.1873e-04\n",
      "Epoch 4/200\n",
      "35/35 [==============================] - 0s 8ms/step - loss: 0.1783 - categorical_accuracy: 0.9367 - val_loss: 0.2192 - val_categorical_accuracy: 0.9251 - lr: 7.4082e-04\n",
      "Epoch 5/200\n",
      "35/35 [==============================] - 0s 12ms/step - loss: 0.1398 - categorical_accuracy: 0.9472 - val_loss: 0.2058 - val_categorical_accuracy: 0.9321 - lr: 6.7032e-04\n",
      "Epoch 6/200\n",
      "35/35 [==============================] - 1s 16ms/step - loss: 0.1330 - categorical_accuracy: 0.9537 - val_loss: 0.2097 - val_categorical_accuracy: 0.9368 - lr: 6.0653e-04\n",
      "Epoch 7/200\n",
      "35/35 [==============================] - 1s 16ms/step - loss: 0.1160 - categorical_accuracy: 0.9601 - val_loss: 0.2153 - val_categorical_accuracy: 0.9274 - lr: 5.4881e-04\n",
      "Epoch 8/200\n",
      "35/35 [==============================] - 1s 16ms/step - loss: 0.1125 - categorical_accuracy: 0.9560 - val_loss: 0.2019 - val_categorical_accuracy: 0.9461 - lr: 4.9659e-04\n",
      "Epoch 9/200\n",
      "35/35 [==============================] - 1s 16ms/step - loss: 0.0987 - categorical_accuracy: 0.9654 - val_loss: 0.1959 - val_categorical_accuracy: 0.9461 - lr: 4.4933e-04\n",
      "Epoch 10/200\n",
      "35/35 [==============================] - 1s 16ms/step - loss: 0.0944 - categorical_accuracy: 0.9672 - val_loss: 0.1972 - val_categorical_accuracy: 0.9508 - lr: 4.0657e-04\n",
      "Epoch 11/200\n",
      "35/35 [==============================] - 1s 16ms/step - loss: 0.0831 - categorical_accuracy: 0.9748 - val_loss: 0.1999 - val_categorical_accuracy: 0.9508 - lr: 3.6788e-04\n"
     ]
    }
   ],
   "source": [
    "# Load and fit the Model\n",
    "\n",
    "lr_schedule = tf.keras.callbacks.LearningRateScheduler(\n",
    "                         lambda epoch: 0.001 * np.exp(-epoch / 10) # scheduler adjusts the lr between the iterations (epoch)\n",
    ")\n",
    "\n",
    "history = model.fit ( x_train, y_train, epochs = 200, validation_split = 0.2, validation_data = (x_test, y_test), verbose = 1,\n",
    "                     batch_size = 50,\n",
    "                    callbacks = [\n",
    "                        tf.keras.callbacks.EarlyStopping(\n",
    "                            monitor = 'val_categorical_accuracy',\n",
    "                            mode = 'min',\n",
    "                            patience = 10,\n",
    "                            restore_best_weights = True,\n",
    "                           \n",
    "                        ),\n",
    "                        lr_schedule\n",
    "                    ]\n",
    "\n",
    "                )\n"
   ]
  },
  {
   "cell_type": "markdown",
   "id": "7f06c844-335b-4c76-98e0-9077bb65dd0a",
   "metadata": {},
   "source": [
    "##### Here, the  epoch stopped because of  EarlyStopping as the accuracy did not improve, even for 200 epoch"
   ]
  },
  {
   "cell_type": "markdown",
   "id": "c25aa11e-baca-453d-9f88-8134c50c325f",
   "metadata": {},
   "source": [
    "#### Accuracy Test"
   ]
  },
  {
   "cell_type": "code",
   "execution_count": 17,
   "id": "095da9ef-b996-407a-b72e-8f84d2e444b2",
   "metadata": {},
   "outputs": [
    {
     "name": "stdout",
     "output_type": "stream",
     "text": [
      "14/14 [==============================] - 0s 2ms/step\n",
      "Accuracy of Test : 89.696% \n"
     ]
    }
   ],
   "source": [
    "predictions = model.predict (x_test)\n",
    "\n",
    "prediction_classes = np.argmax (predictions, axis = 1)\n",
    "result_classes = np.argmax (y_test, axis = 1)\n",
    "\n",
    "model_accuracy = accuracy_score ( result_classes, prediction_classes )\n",
    "\n",
    "print ('Accuracy of Test : {:.3f}% '.format (model_accuracy * 100) ) # calculate to % and 3f: 3 round figures"
   ]
  },
  {
   "cell_type": "markdown",
   "id": "39c88309-246c-4951-8ccb-1f4e6689cb01",
   "metadata": {},
   "source": [
    "#### Confusion Matrix"
   ]
  },
  {
   "cell_type": "code",
   "execution_count": 18,
   "id": "b15b05da-e84a-4d61-8f96-dc7e277110d3",
   "metadata": {},
   "outputs": [
    {
     "name": "stdout",
     "output_type": "stream",
     "text": [
      "14/14 [==============================] - 0s 2ms/step\n",
      "Confusion Matrix: \n",
      " [[158   1   9]\n",
      " [  0 122  31]\n",
      " [  1   2 103]]\n"
     ]
    }
   ],
   "source": [
    "# See the Confusion Matrix\n",
    "\n",
    "new_prediction = model.predict (x_test)\n",
    "con_matrix = confusion_matrix (new_prediction.argmax (axis = 1), y_test.argmax (axis = 1) )\n",
    "\n",
    "print ('Confusion Matrix: \\n', con_matrix)"
   ]
  },
  {
   "cell_type": "code",
   "execution_count": 19,
   "id": "03b98766-82b3-46b5-92a3-0944e6ba947f",
   "metadata": {},
   "outputs": [
    {
     "data": {
      "image/png": "[encoded data removed]",
      "text/plain": [
       "<Figure size 576x432 with 1 Axes>"
      ]
     },
     "metadata": {},
     "output_type": "display_data"
    }
   ],
   "source": [
    "# Plot the Confusion Matrix\n",
    "\n",
    "con_matrix_fig = plt.figure (figsize = (8,6) )\n",
    "sns.heatmap (con_matrix, vmin = False, annot = True, linecolor = 'black', cbar = False, fmt = '.1f', cmap = 'Purples' )\n",
    "\n",
    "plt.title ('Confusion Matrix Plot :\\n')\n",
    "plt.xlabel ('Predicted Values \\n', color = ('#0b0225') )\n",
    "plt.ylabel ('Actual Values \\n', color = ('#0b0225') )\n",
    "plt.xticks (np.arange (3) + 0.3, map_label.keys() )  #Return evenly spaced values within a given interval. map the label back to categorical\n",
    "plt.yticks (np.arange (3) + 0.3, map_label.keys() )\n",
    "\n",
    "plt.show ()"
   ]
  },
  {
   "cell_type": "markdown",
   "id": "a6a76cb3-ef8b-4637-b468-560d11066bd1",
   "metadata": {},
   "source": [
    "#### Classification Report"
   ]
  },
  {
   "cell_type": "code",
   "execution_count": 20,
   "id": "325313f8-54b6-4ece-bb9d-b1cc933f4d41",
   "metadata": {},
   "outputs": [
    {
     "name": "stdout",
     "output_type": "stream",
     "text": [
      "EMOTION CLASSIFICATION  REPORT:  \n",
      "               precision    recall  f1-score   support\n",
      "\n",
      "    POSITIVE       0.99      0.94      0.97       168\n",
      "    NEGATIVE       0.98      0.80      0.88       153\n",
      "     NEUTRAL       0.72      0.97      0.83       106\n",
      "\n",
      "    accuracy                           0.90       427\n",
      "   macro avg       0.90      0.90      0.89       427\n",
      "weighted avg       0.92      0.90      0.90       427\n",
      "\n"
     ]
    }
   ],
   "source": [
    "# Classification Report\n",
    "\n",
    "clreport = classification_report (new_prediction.argmax(axis = 1), y_test.argmax(axis = 1), target_names = map_label.keys() )\n",
    "print ('EMOTION CLASSIFICATION  REPORT:  \\n', clreport)"
   ]
  },
  {
   "cell_type": "markdown",
   "id": "b2c785f5-01e0-4522-ba1a-e7dca90982d7",
   "metadata": {},
   "source": [
    "#### End Of  Emotion Classification"
   ]
  },
  {
   "cell_type": "code",
   "execution_count": null,
   "id": "d2348bd7-2636-418d-9df1-cc7d4deec802",
   "metadata": {},
   "outputs": [],
   "source": []
  }
 ],
 "metadata": {
  "kernelspec": {
   "display_name": "Python 3 (ipykernel)",
   "language": "python",
   "name": "python3"
  },
  "language_info": {
   "codemirror_mode": {
    "name": "ipython",
    "version": 3
   },
   "file_extension": ".py",
   "mimetype": "text/x-python",
   "name": "python",
   "nbconvert_exporter": "python",
   "pygments_lexer": "ipython3",
   "version": "3.9.0"
  }
 },
 "nbformat": 4,
 "nbformat_minor": 5
}
